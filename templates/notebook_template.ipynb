{
 "cells": [
  {
   "cell_type": "markdown",
   "metadata": {},
   "source": [
    "# <center>Name of the Project</center>"
   ]
  },
  {
   "cell_type": "markdown",
   "metadata": {},
   "source": [
    "Link to description on how export images in HTML notebook format:\n",
    "https://stackoverflow.com/questions/51975699/embedding-image-into-jupyter-notebook-and-exporting-to-html\n",
    "\n",
    "Link to online encoder:\n",
    "https://www.base64-image.de/"
   ]
  },
  {
   "cell_type": "code",
   "execution_count": 1,
   "metadata": {},
   "outputs": [],
   "source": [
    "# 1 - paste the code from encoder\n",
    "# 2 - adjust hyperparameters (align, height, width)\n",
    "# 3 - turn the cell into Markdown\n",
    "\n",
    "# <div align=\"center\"> \n",
    "#         <img src=\"data:image/png;base64, CODE_FOLLOWS_HERE\" height=\"400\" width=\"540\" />\n",
    "# </div>"
   ]
  },
  {
   "cell_type": "markdown",
   "metadata": {},
   "source": [
    "Short description is expected to be written here.\n",
    "\n",
    "<a id='top'></a>\n",
    "The notebook's structure:\n",
    "    \n",
    "I. [Section I](#sec_1)\n",
    "\n",
    "&nbsp; &nbsp; 1. [First Chapter](#chapter_1_1)<br>\n",
    "\n",
    "&nbsp; &nbsp; 2. [Second Chapter](#chapter_1_2)<br>\n",
    "\n",
    "II. [Summary](#summary)"
   ]
  },
  {
   "cell_type": "code",
   "execution_count": 2,
   "metadata": {},
   "outputs": [],
   "source": [
    "import numpy as np\n",
    "import pandas as pd\n",
    "\n",
    "import matplotlib.pyplot as plt\n",
    "%matplotlib inline"
   ]
  },
  {
   "cell_type": "markdown",
   "metadata": {},
   "source": [
    "<a id='sec_1'></a>\n",
    "# I. Section I"
   ]
  },
  {
   "cell_type": "markdown",
   "metadata": {},
   "source": [
    "<a id='chapter_1_1'></a>\n",
    "## I-1. First Chapter"
   ]
  },
  {
   "cell_type": "markdown",
   "metadata": {},
   "source": [
    "The content of first chapter is placed here."
   ]
  },
  {
   "cell_type": "markdown",
   "metadata": {},
   "source": [
    "[back to top](#top)"
   ]
  },
  {
   "cell_type": "markdown",
   "metadata": {},
   "source": [
    "<a id='chapter_1_2'></a>\n",
    "## I-2. Second Chapter"
   ]
  },
  {
   "cell_type": "markdown",
   "metadata": {},
   "source": [
    "The content of the second chapter is placed here."
   ]
  },
  {
   "cell_type": "markdown",
   "metadata": {},
   "source": [
    "[back to top](#top)"
   ]
  },
  {
   "cell_type": "markdown",
   "metadata": {},
   "source": [
    "<a id='summary'></a>\n",
    "# II. Summary"
   ]
  },
  {
   "cell_type": "markdown",
   "metadata": {},
   "source": [
    "- first outcome\n",
    "\n",
    "\n",
    "- second outcome"
   ]
  },
  {
   "cell_type": "markdown",
   "metadata": {},
   "source": [
    "[back to top](#top)"
   ]
  }
 ],
 "metadata": {
  "kernelspec": {
   "display_name": "Python 3 (ipykernel)",
   "language": "python",
   "name": "python3"
  },
  "language_info": {
   "codemirror_mode": {
    "name": "ipython",
    "version": 3
   },
   "file_extension": ".py",
   "mimetype": "text/x-python",
   "name": "python",
   "nbconvert_exporter": "python",
   "pygments_lexer": "ipython3",
   "version": "3.9.12"
  }
 },
 "nbformat": 4,
 "nbformat_minor": 4
}
